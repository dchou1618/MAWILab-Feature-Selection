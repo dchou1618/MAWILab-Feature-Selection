{
 "cells": [
  {
   "cell_type": "markdown",
   "metadata": {},
   "source": [
    "## Granger Causality and Inverse Probability Weighting\n",
    "**Learning Objectives**\n",
    "* Imputing Missing Data using semi-supervised learning with forecast model - just as with stock markets, unexpected events may occur. Although they may not fully be captured in the intended ARIMA model's noise terms, it is done for imputation so protocol buffers types within messages may be used.\n",
    "* Granger Causality Implementation\n",
    "* Making causal claims - difference in expected outcomes - using inverse probability weighting"
   ]
  },
  {
   "cell_type": "code",
   "execution_count": 3,
   "metadata": {},
   "outputs": [],
   "source": [
    "# !pip3 install matplotlib\n",
    "import numpy as np\n",
    "import pandas as pd\n",
    "import matplotlib.pyplot as plt\n",
    "import math\n",
    "from pandas.plotting import autocorrelation_plot"
   ]
  },
  {
   "cell_type": "markdown",
   "metadata": {},
   "source": [
    "## Handling Missing Values in Time Series\n",
    "* As with any missing values, one can (1) impute the data or (2) remove the records. \n",
    "* Imputation occurs in RStudio - Kalman Filter"
   ]
  },
  {
   "cell_type": "code",
   "execution_count": 5,
   "metadata": {},
   "outputs": [],
   "source": [
    "# added again for convenience\n",
    "import numpy as np\n",
    "import pandas as pd"
   ]
  },
  {
   "cell_type": "code",
   "execution_count": 8,
   "metadata": {},
   "outputs": [],
   "source": [
    "updatedPortScanDf = pd.read_csv(\"./knockoff/newPortData.csv\")"
   ]
  },
  {
   "cell_type": "code",
   "execution_count": 9,
   "metadata": {},
   "outputs": [],
   "source": [
    "updatedPortScanDf = updatedPortScanDf.drop(columns=['X','Unnamed: 0'])"
   ]
  },
  {
   "cell_type": "code",
   "execution_count": 10,
   "metadata": {
    "scrolled": false
   },
   "outputs": [
    {
     "data": {
      "text/html": [
       "<div>\n",
       "<style scoped>\n",
       "    .dataframe tbody tr th:only-of-type {\n",
       "        vertical-align: middle;\n",
       "    }\n",
       "\n",
       "    .dataframe tbody tr th {\n",
       "        vertical-align: top;\n",
       "    }\n",
       "\n",
       "    .dataframe thead th {\n",
       "        text-align: right;\n",
       "    }\n",
       "</style>\n",
       "<table border=\"1\" class=\"dataframe\">\n",
       "  <thead>\n",
       "    <tr style=\"text-align: right;\">\n",
       "      <th></th>\n",
       "      <th>frame_info_time</th>\n",
       "      <th>frame_info_time_epoch</th>\n",
       "      <th>frame_info_number</th>\n",
       "      <th>frame_info_len</th>\n",
       "      <th>frame_info_cap_len</th>\n",
       "      <th>ip_id</th>\n",
       "      <th>ip_flags</th>\n",
       "      <th>ip_flags_df</th>\n",
       "      <th>ip_ttl</th>\n",
       "      <th>ip_checksum</th>\n",
       "      <th>...</th>\n",
       "      <th>tcp_flags_reset</th>\n",
       "      <th>tcp_flags_push</th>\n",
       "      <th>tcp_flags_ack</th>\n",
       "      <th>tcp_flags_urg</th>\n",
       "      <th>tcp_flags_cwr</th>\n",
       "      <th>tcp_window_size</th>\n",
       "      <th>tcp_checksum</th>\n",
       "      <th>tcp_urgent_pointer</th>\n",
       "      <th>tcp_options_mss_val</th>\n",
       "      <th>label</th>\n",
       "    </tr>\n",
       "  </thead>\n",
       "  <tbody>\n",
       "    <tr>\n",
       "      <th>0</th>\n",
       "      <td>0</td>\n",
       "      <td>1.574312e+09</td>\n",
       "      <td>7</td>\n",
       "      <td>54</td>\n",
       "      <td>54</td>\n",
       "      <td>46834</td>\n",
       "      <td>0</td>\n",
       "      <td>0</td>\n",
       "      <td>247</td>\n",
       "      <td>12832</td>\n",
       "      <td>...</td>\n",
       "      <td>0</td>\n",
       "      <td>0</td>\n",
       "      <td>0</td>\n",
       "      <td>0</td>\n",
       "      <td>0</td>\n",
       "      <td>1024</td>\n",
       "      <td>61355</td>\n",
       "      <td>0</td>\n",
       "      <td>17055.139055</td>\n",
       "      <td>1</td>\n",
       "    </tr>\n",
       "    <tr>\n",
       "      <th>1</th>\n",
       "      <td>2481</td>\n",
       "      <td>1.574312e+09</td>\n",
       "      <td>12</td>\n",
       "      <td>551</td>\n",
       "      <td>66</td>\n",
       "      <td>3793</td>\n",
       "      <td>16384</td>\n",
       "      <td>1</td>\n",
       "      <td>56</td>\n",
       "      <td>13960</td>\n",
       "      <td>...</td>\n",
       "      <td>0</td>\n",
       "      <td>1</td>\n",
       "      <td>1</td>\n",
       "      <td>0</td>\n",
       "      <td>0</td>\n",
       "      <td>252</td>\n",
       "      <td>60933</td>\n",
       "      <td>0</td>\n",
       "      <td>16923.056473</td>\n",
       "      <td>1</td>\n",
       "    </tr>\n",
       "    <tr>\n",
       "      <th>2</th>\n",
       "      <td>2556</td>\n",
       "      <td>1.574312e+09</td>\n",
       "      <td>14</td>\n",
       "      <td>94</td>\n",
       "      <td>94</td>\n",
       "      <td>0</td>\n",
       "      <td>16384</td>\n",
       "      <td>1</td>\n",
       "      <td>59</td>\n",
       "      <td>12472</td>\n",
       "      <td>...</td>\n",
       "      <td>0</td>\n",
       "      <td>0</td>\n",
       "      <td>1</td>\n",
       "      <td>0</td>\n",
       "      <td>0</td>\n",
       "      <td>4677</td>\n",
       "      <td>18651</td>\n",
       "      <td>0</td>\n",
       "      <td>16738.109830</td>\n",
       "      <td>1</td>\n",
       "    </tr>\n",
       "    <tr>\n",
       "      <th>3</th>\n",
       "      <td>3197</td>\n",
       "      <td>1.574312e+09</td>\n",
       "      <td>15</td>\n",
       "      <td>68</td>\n",
       "      <td>66</td>\n",
       "      <td>8559</td>\n",
       "      <td>16384</td>\n",
       "      <td>1</td>\n",
       "      <td>55</td>\n",
       "      <td>64767</td>\n",
       "      <td>...</td>\n",
       "      <td>0</td>\n",
       "      <td>1</td>\n",
       "      <td>1</td>\n",
       "      <td>0</td>\n",
       "      <td>0</td>\n",
       "      <td>115</td>\n",
       "      <td>7590</td>\n",
       "      <td>0</td>\n",
       "      <td>16507.535890</td>\n",
       "      <td>1</td>\n",
       "    </tr>\n",
       "    <tr>\n",
       "      <th>4</th>\n",
       "      <td>3273</td>\n",
       "      <td>1.574312e+09</td>\n",
       "      <td>16</td>\n",
       "      <td>54</td>\n",
       "      <td>54</td>\n",
       "      <td>54321</td>\n",
       "      <td>0</td>\n",
       "      <td>0</td>\n",
       "      <td>244</td>\n",
       "      <td>40274</td>\n",
       "      <td>...</td>\n",
       "      <td>0</td>\n",
       "      <td>0</td>\n",
       "      <td>0</td>\n",
       "      <td>0</td>\n",
       "      <td>0</td>\n",
       "      <td>65535</td>\n",
       "      <td>18914</td>\n",
       "      <td>0</td>\n",
       "      <td>16237.596014</td>\n",
       "      <td>1</td>\n",
       "    </tr>\n",
       "  </tbody>\n",
       "</table>\n",
       "<p>5 rows × 33 columns</p>\n",
       "</div>"
      ],
      "text/plain": [
       "   frame_info_time  frame_info_time_epoch  frame_info_number  frame_info_len  \\\n",
       "0                0           1.574312e+09                  7              54   \n",
       "1             2481           1.574312e+09                 12             551   \n",
       "2             2556           1.574312e+09                 14              94   \n",
       "3             3197           1.574312e+09                 15              68   \n",
       "4             3273           1.574312e+09                 16              54   \n",
       "\n",
       "   frame_info_cap_len  ip_id  ip_flags  ip_flags_df  ip_ttl  ip_checksum  ...  \\\n",
       "0                  54  46834         0            0     247        12832  ...   \n",
       "1                  66   3793     16384            1      56        13960  ...   \n",
       "2                  94      0     16384            1      59        12472  ...   \n",
       "3                  66   8559     16384            1      55        64767  ...   \n",
       "4                  54  54321         0            0     244        40274  ...   \n",
       "\n",
       "  tcp_flags_reset tcp_flags_push  tcp_flags_ack  tcp_flags_urg  tcp_flags_cwr  \\\n",
       "0               0              0              0              0              0   \n",
       "1               0              1              1              0              0   \n",
       "2               0              0              1              0              0   \n",
       "3               0              1              1              0              0   \n",
       "4               0              0              0              0              0   \n",
       "\n",
       "   tcp_window_size  tcp_checksum  tcp_urgent_pointer  tcp_options_mss_val  \\\n",
       "0             1024         61355                   0         17055.139055   \n",
       "1              252         60933                   0         16923.056473   \n",
       "2             4677         18651                   0         16738.109830   \n",
       "3              115          7590                   0         16507.535890   \n",
       "4            65535         18914                   0         16237.596014   \n",
       "\n",
       "   label  \n",
       "0      1  \n",
       "1      1  \n",
       "2      1  \n",
       "3      1  \n",
       "4      1  \n",
       "\n",
       "[5 rows x 33 columns]"
      ]
     },
     "execution_count": 10,
     "metadata": {},
     "output_type": "execute_result"
    }
   ],
   "source": [
    "updatedPortScanDf.head()"
   ]
  },
  {
   "cell_type": "markdown",
   "metadata": {},
   "source": [
    "## Notions of Causality\n",
    "\n",
    "The earliest concept of causality in time-series data was granger causality that suggested the difference\n",
    "between predicting stochastic process $Y$ compared to $X$ given all the information of the \"universe\". \n",
    "Assuming that $X,Y$ are stationary stochastic processes.\n",
    "\n",
    "If removing $X$ reduces the predictive power regarding $Y$, $X$ contains unique information regarding $Y$ so \n",
    "$X$ Granger-causes $Y$.\n",
    "\n",
    "$U_i = (U_{i_1},...,U_{i_{\\infty}})$ contains all the information until time $i$. $\\sigma^2 (Y_i|U_i)$\n",
    "is the variance of predicting $Y_i$ using $U_i$ at time $i$. $\\sigma^2 (Y_i|U_i \\ X_i)$ excludes $X_i$\n",
    "when predicting $Y_i$. \n",
    "\n",
    "If $\\sigma^2 (Y_i|U_i) < \\sigma^2 (Y_i|U_i \\ X_i)$, then $X$ granger-causes $Y$.\n",
    "\n",
    "**A feedback** occurs between $X,Y$ when $X$ granger-causes $Y$ and $Y$ granger-causes $X$.\n",
    "\n",
    "**Practically, we have access to a limited set of observed time series $X$, so we observe $X$ \n",
    "granger-causes $Y$ w.r.t $X$**\n",
    "\n",
    "**Instantaneous causality** occurs between 2 stochastic processes if at time $i$, adding $X_i$\n",
    "helps improve the predicted value $Y_i$. \n",
    "\n",
    "If $\\sigma^2(Y_i|U_i \\cup \\{X_i\\}) < \\sigma^2(Y_i|U_i)$, then there is instantaneous causality between X and Y."
   ]
  },
  {
   "cell_type": "markdown",
   "metadata": {},
   "source": [
    "## Inverse Probability Weighting (IPW)\n",
    "\n",
    "IPW compensates for underrepresented and oversampled groups by weighting individuals from a particular group by the inverse of the probability of being in that group. Thereby, those in minority groups will be weighed more \n",
    "heavily than those in oversampled groups. \n",
    "\n",
    "The notion of a pseudo-population occurs with \n",
    "\n",
    "The causal estimand is **identifiable** if we have exchangeability  "
   ]
  },
  {
   "cell_type": "markdown",
   "metadata": {},
   "source": [
    "One can look to root cause detection in anomalous time series. This comes from anomalous behavior\n",
    "of one of the continuous variables. Another approach involves directly identifying the causal\n",
    "structures at play with graph search.\n",
    "**SGS/PC Algorithms**"
   ]
  },
  {
   "cell_type": "code",
   "execution_count": 12,
   "metadata": {},
   "outputs": [],
   "source": [
    "updatedNumericPortScanDf = updatedPortScanDf.drop(columns=[\"ip_src\",\"ip_dst\"])"
   ]
  },
  {
   "cell_type": "code",
   "execution_count": 13,
   "metadata": {},
   "outputs": [],
   "source": [
    "# here we use an \"adjacency list\" representation as a mapping of a feature to every other feature.\n",
    "# (1) This is the initialization of the fully, densely connected graph\n",
    "connectedGraph = dict()\n",
    "numericCols = updatedNumericPortScanDf.columns\n",
    "colsSet = set(numericCols)\n",
    "for col in numericCols:\n",
    "    connectedGraph[col] = colsSet.difference(set([col]))"
   ]
  },
  {
   "cell_type": "code",
   "execution_count": 14,
   "metadata": {},
   "outputs": [],
   "source": [
    "# (2) edge elimination occurs when edges are conditionally independent - \n",
    "# test for conditional independence can be under PC Algorithm that \n",
    "# assumes \n",
    "# (3) identifying unshielded colliders - for pairs of variables connected\n",
    "# through a third variable, test conditional independence on third variable.\n",
    "# "
   ]
  },
  {
   "cell_type": "code",
   "execution_count": 17,
   "metadata": {},
   "outputs": [],
   "source": [
    "# !pip3 install statsmodels\n",
    "from statsmodels.tsa.stattools import grangercausalitytests"
   ]
  },
  {
   "cell_type": "markdown",
   "metadata": {},
   "source": [
    "### Granger Causality F-test\n",
    "**With Granger Causality, we can conduct the F-test** by comparing a full model against reduced model.\n",
    "If the null hypothesis is rejected, we say some stochastic process $X$ granger-causes $Y$. This \n",
    "provides insight into how well the previous values of \n",
    "one time series can predict the other.\n",
    "\n",
    "**When doing these analyses, we assuming the causes precede the effect and the cause has\n",
    "unique information about future values of effect**"
   ]
  },
  {
   "cell_type": "code",
   "execution_count": 18,
   "metadata": {},
   "outputs": [
    {
     "name": "stdout",
     "output_type": "stream",
     "text": [
      "\n",
      "Granger Causality\n",
      "number of lags (no zero) 10\n",
      "ssr based F test:         F=1.5329  , p=0.1205  , df_denom=284670, df_num=10\n",
      "ssr based chi2 test:   chi2=15.3298 , p=0.1205  , df=10\n",
      "likelihood ratio test: chi2=15.3294 , p=0.1205  , df=10\n",
      "parameter F test:         F=1.5329  , p=0.1205  , df_denom=284670, df_num=10\n"
     ]
    },
    {
     "data": {
      "text/plain": [
       "{10: ({'ssr_ftest': (1.5328688653925866, 0.12053669995882672, 284670.0, 10),\n",
       "   'ssr_chi2test': (15.329819445585446, 0.12049190196308561, 10),\n",
       "   'lrtest': (15.329406723380089, 0.12050582193001443, 10),\n",
       "   'params_ftest': (1.532868865099186, 0.12053670006170704, 284670.0, 10.0)},\n",
       "  [<statsmodels.regression.linear_model.RegressionResultsWrapper at 0x12cf93be0>,\n",
       "   <statsmodels.regression.linear_model.RegressionResultsWrapper at 0x12cf92560>,\n",
       "   array([[0., 0., 0., 0., 0., 0., 0., 0., 0., 0., 1., 0., 0., 0., 0., 0.,\n",
       "           0., 0., 0., 0., 0.],\n",
       "          [0., 0., 0., 0., 0., 0., 0., 0., 0., 0., 0., 1., 0., 0., 0., 0.,\n",
       "           0., 0., 0., 0., 0.],\n",
       "          [0., 0., 0., 0., 0., 0., 0., 0., 0., 0., 0., 0., 1., 0., 0., 0.,\n",
       "           0., 0., 0., 0., 0.],\n",
       "          [0., 0., 0., 0., 0., 0., 0., 0., 0., 0., 0., 0., 0., 1., 0., 0.,\n",
       "           0., 0., 0., 0., 0.],\n",
       "          [0., 0., 0., 0., 0., 0., 0., 0., 0., 0., 0., 0., 0., 0., 1., 0.,\n",
       "           0., 0., 0., 0., 0.],\n",
       "          [0., 0., 0., 0., 0., 0., 0., 0., 0., 0., 0., 0., 0., 0., 0., 1.,\n",
       "           0., 0., 0., 0., 0.],\n",
       "          [0., 0., 0., 0., 0., 0., 0., 0., 0., 0., 0., 0., 0., 0., 0., 0.,\n",
       "           1., 0., 0., 0., 0.],\n",
       "          [0., 0., 0., 0., 0., 0., 0., 0., 0., 0., 0., 0., 0., 0., 0., 0.,\n",
       "           0., 1., 0., 0., 0.],\n",
       "          [0., 0., 0., 0., 0., 0., 0., 0., 0., 0., 0., 0., 0., 0., 0., 0.,\n",
       "           0., 0., 1., 0., 0.],\n",
       "          [0., 0., 0., 0., 0., 0., 0., 0., 0., 0., 0., 0., 0., 0., 0., 0.,\n",
       "           0., 0., 0., 1., 0.]])])}"
      ]
     },
     "execution_count": 18,
     "metadata": {},
     "output_type": "execute_result"
    }
   ],
   "source": [
    "grangercausalitytests(updatedPortScanDf[[\"tcp_options_mss_val\",\"ip_ttl\"]], [10])"
   ]
  },
  {
   "cell_type": "code",
   "execution_count": 22,
   "metadata": {},
   "outputs": [],
   "source": [
    "# !pip3 install fcit\n",
    "# we determine if P(y|x, z) = P(y|z)"
   ]
  },
  {
   "cell_type": "code",
   "execution_count": 24,
   "metadata": {},
   "outputs": [
    {
     "name": "stderr",
     "output_type": "stream",
     "text": [
      "/Users/dylanchou/Desktop/env/lib/python3.10/site-packages/sklearn/utils/validation.py:727: FutureWarning: np.matrix usage is deprecated in 1.0 and will raise a TypeError in 1.2. Please convert to a numpy array with np.asarray. For more information see: https://numpy.org/doc/stable/reference/generated/numpy.matrix.html\n",
      "  warnings.warn(\n",
      "/Users/dylanchou/Desktop/env/lib/python3.10/site-packages/sklearn/utils/validation.py:727: FutureWarning: np.matrix usage is deprecated in 1.0 and will raise a TypeError in 1.2. Please convert to a numpy array with np.asarray. For more information see: https://numpy.org/doc/stable/reference/generated/numpy.matrix.html\n",
      "  warnings.warn(\n"
     ]
    }
   ],
   "source": [
    "from fcit import fcit\n",
    "pvalLenMSS = fcit.test(np.transpose(np.matrix(updatedPortScanDf[\"frame_info_len\"])),\n",
    "                       np.transpose(np.matrix(updatedPortScanDf[\"tcp_options_mss_val\"])))"
   ]
  },
  {
   "cell_type": "code",
   "execution_count": 26,
   "metadata": {
    "scrolled": true
   },
   "outputs": [
    {
     "data": {
      "text/plain": [
       "0.010841559929812611"
      ]
     },
     "execution_count": 26,
     "metadata": {},
     "output_type": "execute_result"
    }
   ],
   "source": [
    "pvalLenMSS\n",
    "# fcit tests for the null hypothesis that x is independent of y\n",
    "# low p-value, so given x is independent of y, obtaining the observations from the two\n",
    "# vectors or more extreme is very unlikely. \n",
    "# we reject and may consider that x is not independent of y.\n",
    "# another consideration for"
   ]
  },
  {
   "cell_type": "code",
   "execution_count": 25,
   "metadata": {},
   "outputs": [],
   "source": [
    "dfGraph = updatedPortScanDf.sample(10)"
   ]
  },
  {
   "cell_type": "code",
   "execution_count": 27,
   "metadata": {},
   "outputs": [
    {
     "name": "stderr",
     "output_type": "stream",
     "text": [
      "/Users/dylanchou/Desktop/env/lib/python3.10/site-packages/sklearn/utils/validation.py:727: FutureWarning: np.matrix usage is deprecated in 1.0 and will raise a TypeError in 1.2. Please convert to a numpy array with np.asarray. For more information see: https://numpy.org/doc/stable/reference/generated/numpy.matrix.html\n",
      "  warnings.warn(\n",
      "/Users/dylanchou/Desktop/env/lib/python3.10/site-packages/sklearn/utils/validation.py:727: FutureWarning: np.matrix usage is deprecated in 1.0 and will raise a TypeError in 1.2. Please convert to a numpy array with np.asarray. For more information see: https://numpy.org/doc/stable/reference/generated/numpy.matrix.html\n",
      "  warnings.warn(\n",
      "/Users/dylanchou/Desktop/env/lib/python3.10/site-packages/sklearn/metrics/_regression.py:918: UndefinedMetricWarning: R^2 score is not well-defined with less than two samples.\n",
      "  warnings.warn(msg, UndefinedMetricWarning)\n",
      "/Users/dylanchou/Desktop/env/lib/python3.10/site-packages/sklearn/metrics/_regression.py:918: UndefinedMetricWarning: R^2 score is not well-defined with less than two samples.\n",
      "  warnings.warn(msg, UndefinedMetricWarning)\n",
      "/Users/dylanchou/Desktop/env/lib/python3.10/site-packages/sklearn/metrics/_regression.py:918: UndefinedMetricWarning: R^2 score is not well-defined with less than two samples.\n",
      "  warnings.warn(msg, UndefinedMetricWarning)\n",
      "/Users/dylanchou/Desktop/env/lib/python3.10/site-packages/sklearn/metrics/_regression.py:918: UndefinedMetricWarning: R^2 score is not well-defined with less than two samples.\n",
      "  warnings.warn(msg, UndefinedMetricWarning)\n",
      "/Users/dylanchou/Desktop/env/lib/python3.10/site-packages/sklearn/metrics/_regression.py:918: UndefinedMetricWarning: R^2 score is not well-defined with less than two samples.\n",
      "  warnings.warn(msg, UndefinedMetricWarning)\n",
      "/Users/dylanchou/Desktop/env/lib/python3.10/site-packages/sklearn/metrics/_regression.py:918: UndefinedMetricWarning: R^2 score is not well-defined with less than two samples.\n",
      "  warnings.warn(msg, UndefinedMetricWarning)\n",
      "/Users/dylanchou/Desktop/env/lib/python3.10/site-packages/sklearn/metrics/_regression.py:918: UndefinedMetricWarning: R^2 score is not well-defined with less than two samples.\n",
      "  warnings.warn(msg, UndefinedMetricWarning)\n",
      "/Users/dylanchou/Desktop/env/lib/python3.10/site-packages/sklearn/metrics/_regression.py:918: UndefinedMetricWarning: R^2 score is not well-defined with less than two samples.\n",
      "  warnings.warn(msg, UndefinedMetricWarning)\n",
      "/Users/dylanchou/Desktop/env/lib/python3.10/site-packages/sklearn/metrics/_regression.py:918: UndefinedMetricWarning: R^2 score is not well-defined with less than two samples.\n",
      "  warnings.warn(msg, UndefinedMetricWarning)\n",
      "/Users/dylanchou/Desktop/env/lib/python3.10/site-packages/sklearn/metrics/_regression.py:918: UndefinedMetricWarning: R^2 score is not well-defined with less than two samples.\n",
      "  warnings.warn(msg, UndefinedMetricWarning)\n",
      "/Users/dylanchou/Desktop/env/lib/python3.10/site-packages/sklearn/metrics/_regression.py:918: UndefinedMetricWarning: R^2 score is not well-defined with less than two samples.\n",
      "  warnings.warn(msg, UndefinedMetricWarning)\n",
      "/Users/dylanchou/Desktop/env/lib/python3.10/site-packages/sklearn/metrics/_regression.py:918: UndefinedMetricWarning: R^2 score is not well-defined with less than two samples.\n",
      "  warnings.warn(msg, UndefinedMetricWarning)\n",
      "/Users/dylanchou/Desktop/env/lib/python3.10/site-packages/sklearn/metrics/_regression.py:918: UndefinedMetricWarning: R^2 score is not well-defined with less than two samples.\n",
      "  warnings.warn(msg, UndefinedMetricWarning)\n",
      "/Users/dylanchou/Desktop/env/lib/python3.10/site-packages/sklearn/metrics/_regression.py:918: UndefinedMetricWarning: R^2 score is not well-defined with less than two samples.\n",
      "  warnings.warn(msg, UndefinedMetricWarning)\n",
      "/Users/dylanchou/Desktop/env/lib/python3.10/site-packages/sklearn/metrics/_regression.py:918: UndefinedMetricWarning: R^2 score is not well-defined with less than two samples.\n",
      "  warnings.warn(msg, UndefinedMetricWarning)\n",
      "/Users/dylanchou/Desktop/env/lib/python3.10/site-packages/sklearn/metrics/_regression.py:918: UndefinedMetricWarning: R^2 score is not well-defined with less than two samples.\n",
      "  warnings.warn(msg, UndefinedMetricWarning)\n",
      "/Users/dylanchou/Desktop/env/lib/python3.10/site-packages/sklearn/metrics/_regression.py:918: UndefinedMetricWarning: R^2 score is not well-defined with less than two samples.\n",
      "  warnings.warn(msg, UndefinedMetricWarning)\n",
      "/Users/dylanchou/Desktop/env/lib/python3.10/site-packages/sklearn/metrics/_regression.py:918: UndefinedMetricWarning: R^2 score is not well-defined with less than two samples.\n",
      "  warnings.warn(msg, UndefinedMetricWarning)\n",
      "/Users/dylanchou/Desktop/env/lib/python3.10/site-packages/sklearn/metrics/_regression.py:918: UndefinedMetricWarning: R^2 score is not well-defined with less than two samples.\n",
      "  warnings.warn(msg, UndefinedMetricWarning)\n",
      "/Users/dylanchou/Desktop/env/lib/python3.10/site-packages/sklearn/metrics/_regression.py:918: UndefinedMetricWarning: R^2 score is not well-defined with less than two samples.\n",
      "  warnings.warn(msg, UndefinedMetricWarning)\n",
      "/Users/dylanchou/Desktop/env/lib/python3.10/site-packages/sklearn/metrics/_regression.py:918: UndefinedMetricWarning: R^2 score is not well-defined with less than two samples.\n",
      "  warnings.warn(msg, UndefinedMetricWarning)\n",
      "/Users/dylanchou/Desktop/env/lib/python3.10/site-packages/sklearn/model_selection/_search.py:953: UserWarning: One or more of the test scores are non-finite: [nan nan nan nan nan nan nan]\n",
      "  warnings.warn(\n",
      "/Users/dylanchou/Desktop/env/lib/python3.10/site-packages/sklearn/metrics/_regression.py:918: UndefinedMetricWarning: R^2 score is not well-defined with less than two samples.\n",
      "  warnings.warn(msg, UndefinedMetricWarning)\n",
      "/Users/dylanchou/Desktop/env/lib/python3.10/site-packages/sklearn/metrics/_regression.py:918: UndefinedMetricWarning: R^2 score is not well-defined with less than two samples.\n",
      "  warnings.warn(msg, UndefinedMetricWarning)\n",
      "/Users/dylanchou/Desktop/env/lib/python3.10/site-packages/sklearn/metrics/_regression.py:918: UndefinedMetricWarning: R^2 score is not well-defined with less than two samples.\n",
      "  warnings.warn(msg, UndefinedMetricWarning)\n",
      "/Users/dylanchou/Desktop/env/lib/python3.10/site-packages/sklearn/metrics/_regression.py:918: UndefinedMetricWarning: R^2 score is not well-defined with less than two samples.\n",
      "  warnings.warn(msg, UndefinedMetricWarning)\n",
      "/Users/dylanchou/Desktop/env/lib/python3.10/site-packages/sklearn/metrics/_regression.py:918: UndefinedMetricWarning: R^2 score is not well-defined with less than two samples.\n",
      "  warnings.warn(msg, UndefinedMetricWarning)\n",
      "/Users/dylanchou/Desktop/env/lib/python3.10/site-packages/sklearn/metrics/_regression.py:918: UndefinedMetricWarning: R^2 score is not well-defined with less than two samples.\n",
      "  warnings.warn(msg, UndefinedMetricWarning)\n",
      "/Users/dylanchou/Desktop/env/lib/python3.10/site-packages/sklearn/metrics/_regression.py:918: UndefinedMetricWarning: R^2 score is not well-defined with less than two samples.\n",
      "  warnings.warn(msg, UndefinedMetricWarning)\n",
      "/Users/dylanchou/Desktop/env/lib/python3.10/site-packages/sklearn/metrics/_regression.py:918: UndefinedMetricWarning: R^2 score is not well-defined with less than two samples.\n",
      "  warnings.warn(msg, UndefinedMetricWarning)\n",
      "/Users/dylanchou/Desktop/env/lib/python3.10/site-packages/sklearn/metrics/_regression.py:918: UndefinedMetricWarning: R^2 score is not well-defined with less than two samples.\n",
      "  warnings.warn(msg, UndefinedMetricWarning)\n",
      "/Users/dylanchou/Desktop/env/lib/python3.10/site-packages/sklearn/metrics/_regression.py:918: UndefinedMetricWarning: R^2 score is not well-defined with less than two samples.\n",
      "  warnings.warn(msg, UndefinedMetricWarning)\n",
      "/Users/dylanchou/Desktop/env/lib/python3.10/site-packages/sklearn/metrics/_regression.py:918: UndefinedMetricWarning: R^2 score is not well-defined with less than two samples.\n",
      "  warnings.warn(msg, UndefinedMetricWarning)\n",
      "/Users/dylanchou/Desktop/env/lib/python3.10/site-packages/sklearn/metrics/_regression.py:918: UndefinedMetricWarning: R^2 score is not well-defined with less than two samples.\n",
      "  warnings.warn(msg, UndefinedMetricWarning)\n",
      "/Users/dylanchou/Desktop/env/lib/python3.10/site-packages/sklearn/metrics/_regression.py:918: UndefinedMetricWarning: R^2 score is not well-defined with less than two samples.\n",
      "  warnings.warn(msg, UndefinedMetricWarning)\n",
      "/Users/dylanchou/Desktop/env/lib/python3.10/site-packages/sklearn/metrics/_regression.py:918: UndefinedMetricWarning: R^2 score is not well-defined with less than two samples.\n",
      "  warnings.warn(msg, UndefinedMetricWarning)\n",
      "/Users/dylanchou/Desktop/env/lib/python3.10/site-packages/sklearn/metrics/_regression.py:918: UndefinedMetricWarning: R^2 score is not well-defined with less than two samples.\n",
      "  warnings.warn(msg, UndefinedMetricWarning)\n",
      "/Users/dylanchou/Desktop/env/lib/python3.10/site-packages/sklearn/metrics/_regression.py:918: UndefinedMetricWarning: R^2 score is not well-defined with less than two samples.\n",
      "  warnings.warn(msg, UndefinedMetricWarning)\n",
      "/Users/dylanchou/Desktop/env/lib/python3.10/site-packages/sklearn/metrics/_regression.py:918: UndefinedMetricWarning: R^2 score is not well-defined with less than two samples.\n",
      "  warnings.warn(msg, UndefinedMetricWarning)\n",
      "/Users/dylanchou/Desktop/env/lib/python3.10/site-packages/sklearn/metrics/_regression.py:918: UndefinedMetricWarning: R^2 score is not well-defined with less than two samples.\n",
      "  warnings.warn(msg, UndefinedMetricWarning)\n",
      "/Users/dylanchou/Desktop/env/lib/python3.10/site-packages/sklearn/metrics/_regression.py:918: UndefinedMetricWarning: R^2 score is not well-defined with less than two samples.\n",
      "  warnings.warn(msg, UndefinedMetricWarning)\n",
      "/Users/dylanchou/Desktop/env/lib/python3.10/site-packages/sklearn/metrics/_regression.py:918: UndefinedMetricWarning: R^2 score is not well-defined with less than two samples.\n",
      "  warnings.warn(msg, UndefinedMetricWarning)\n",
      "/Users/dylanchou/Desktop/env/lib/python3.10/site-packages/sklearn/metrics/_regression.py:918: UndefinedMetricWarning: R^2 score is not well-defined with less than two samples.\n",
      "  warnings.warn(msg, UndefinedMetricWarning)\n",
      "/Users/dylanchou/Desktop/env/lib/python3.10/site-packages/sklearn/model_selection/_search.py:953: UserWarning: One or more of the test scores are non-finite: [nan nan nan nan nan nan nan]\n",
      "  warnings.warn(\n"
     ]
    },
    {
     "data": {
      "text/plain": [
       "0.9996722776383665"
      ]
     },
     "execution_count": 27,
     "metadata": {},
     "output_type": "execute_result"
    }
   ],
   "source": [
    "fcit.test(np.transpose(np.matrix(dfGraph[\"frame_info_len\"])),\n",
    "          np.transpose(np.matrix(dfGraph[\"tcp_options_mss_val\"])))"
   ]
  },
  {
   "cell_type": "code",
   "execution_count": 28,
   "metadata": {},
   "outputs": [],
   "source": [
    "# there are dependencies from previous iterations - sequential\n",
    "def eliminateEdges(dfGraph,connectedGraph):\n",
    "    def reject(node,neighbor,third=None): \n",
    "        if third is None:\n",
    "            third = np.empty([dfGraph[node].shape[0], 0])\n",
    "        print(node,neighbor)\n",
    "        pval = fcit.test(np.transpose(np.matrix(dfGraph[node])),\n",
    "                       np.transpose(np.matrix(dfGraph[neighbor])), \n",
    "                        third)\n",
    "        if pval < 0.05:\n",
    "            return True\n",
    "        else:\n",
    "            return False\n",
    "    for node in connectedGraph:\n",
    "        currNeighbors = list(connectedGraph[node])\n",
    "        while len(currNeighbors) != 0: # neighbor is element in a set\n",
    "            neighbor = currNeighbors[0]\n",
    "            if not reject(node,neighbor):\n",
    "                connectedGraph[node].remove(neighbor)\n",
    "                connectedGraph[neighbor].remove(node)\n",
    "            else:\n",
    "                for third in connectedGraph[neighbor]:\n",
    "                    if third != node and reject(node,neighbor,\n",
    "                                                np.transpose(np.matrix(dfGraph[third]))):\n",
    "                        connectedGraph[node].remove(neighbor)\n",
    "                        connectedGraph[neighbor].remove(node)\n",
    "                        break\n",
    "            currNeighbors = currNeighbors[1:]\n",
    "    return connectedGraph"
   ]
  },
  {
   "cell_type": "code",
   "execution_count": 29,
   "metadata": {},
   "outputs": [],
   "source": [
    "#newGraph = eliminateEdges(dfGraph,connectedGraph)\n"
   ]
  },
  {
   "cell_type": "code",
   "execution_count": null,
   "metadata": {},
   "outputs": [],
   "source": []
  }
 ],
 "metadata": {
  "kernelspec": {
   "display_name": "Python 3 (ipykernel)",
   "language": "python",
   "name": "python3"
  },
  "language_info": {
   "codemirror_mode": {
    "name": "ipython",
    "version": 3
   },
   "file_extension": ".py",
   "mimetype": "text/x-python",
   "name": "python",
   "nbconvert_exporter": "python",
   "pygments_lexer": "ipython3",
   "version": "3.10.5"
  }
 },
 "nbformat": 4,
 "nbformat_minor": 4
}
